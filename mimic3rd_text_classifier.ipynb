{
  "nbformat": 4,
  "nbformat_minor": 0,
  "metadata": {
    "kernelspec": {
      "display_name": "Python 3",
      "language": "python",
      "name": "python3"
    },
    "language_info": {
      "codemirror_mode": {
        "name": "ipython",
        "version": 3
      },
      "file_extension": ".py",
      "mimetype": "text/x-python",
      "name": "python",
      "nbconvert_exporter": "python",
      "pygments_lexer": "ipython3",
      "version": "3.7.4"
    },
    "colab": {
      "name": "mimic3rd_text_classifier.ipynb",
      "provenance": []
    }
  },
  "cells": [
    {
      "cell_type": "code",
      "metadata": {
        "id": "sxuRA3yXz9C9",
        "colab_type": "code",
        "colab": {}
      },
      "source": [
        "# This Python 3 environment comes with many helpful analytics libraries installed\n",
        "# It is defined by the kaggle/python docker image: https://github.com/kaggle/docker-python\n",
        "# For example, here's several helpful packages to load in \n",
        "\n",
        "import numpy as np # linear algebra\n",
        "import pandas as pd # data processing, CSV file I/O (e.g. pd.read_csv)\n",
        "\n",
        "# Input data files are available in the \"../input/\" directory.\n",
        "# For example, running this (by clicking run or pressing Shift+Enter) will list the files in the input directory\n",
        "import re\n",
        "import os\n",
        "import nltk\n",
        "import gensim\n",
        "from tqdm import tqdm, tqdm_notebook\n",
        "# Any results you write to the current directory are saved as output."
      ],
      "execution_count": 0,
      "outputs": []
    },
    {
      "cell_type": "code",
      "metadata": {
        "id": "CjwY-6UIz9DG",
        "colab_type": "code",
        "colab": {}
      },
      "source": [
        "from gensim.test.utils import get_tmpfile\n",
        "from gensim.models import KeyedVectors\n",
        "#load w2v\n",
        "fname = get_tmpfile('mimic3_rad_sim.kv')\n",
        "embeddings = KeyedVectors.load(fname, mmap='r')\n",
        "#embeddings.init_sims(replace=True)"
      ],
      "execution_count": 0,
      "outputs": []
    },
    {
      "cell_type": "code",
      "metadata": {
        "id": "uvE5ozWuz9DP",
        "colab_type": "code",
        "colab": {}
      },
      "source": [
        "#Load ct reports \n",
        "ct_dataset = pd.read_csv('ct_dataset.csv',index_col=0)\n",
        "#ct_dataset.head()"
      ],
      "execution_count": 0,
      "outputs": []
    },
    {
      "cell_type": "code",
      "metadata": {
        "id": "Rahavxl9z9DV",
        "colab_type": "code",
        "colab": {
          "referenced_widgets": [
            "22680731eafa4263830abd50a915f256"
          ]
        },
        "outputId": "e0355827-822c-4212-8174-1849d83f063a"
      },
      "source": [
        "#Data cleaning\n",
        "#cln_text = [re.sub(\"[^A-Za-z0-9']+\", ' ', str(row)).lower() for row in tqdm_notebook(ct_dataset.iloc[:,0])]\n",
        "cln_text = [row.lower() for row in tqdm_notebook(ct_dataset.iloc[:,0])]"
      ],
      "execution_count": 0,
      "outputs": [
        {
          "output_type": "display_data",
          "data": {
            "application/vnd.jupyter.widget-view+json": {
              "model_id": "22680731eafa4263830abd50a915f256",
              "version_major": 2,
              "version_minor": 0
            },
            "text/plain": [
              "HBox(children=(IntProgress(value=0, max=95573), HTML(value='')))"
            ]
          },
          "metadata": {
            "tags": []
          }
        },
        {
          "output_type": "stream",
          "text": [
            "\n"
          ],
          "name": "stdout"
        }
      ]
    },
    {
      "cell_type": "code",
      "metadata": {
        "id": "lKkW1L6Fz9Df",
        "colab_type": "code",
        "colab": {}
      },
      "source": [
        "ct_dataset['text'] = cln_text\n",
        "#ct_dataset.head()"
      ],
      "execution_count": 0,
      "outputs": []
    },
    {
      "cell_type": "code",
      "metadata": {
        "id": "g0Rh8BESz9Dj",
        "colab_type": "code",
        "colab": {},
        "outputId": "0dc4e7b1-f97b-49ff-90e4-dcb5688cce6e"
      },
      "source": [
        "# Data check\n",
        "sample = np.random.randint(95573,size=1000)\n",
        "ct_sp = ct_dataset.iloc[sample,:] \n",
        "#ct_sp.head()\n",
        "ct_sp.groupby('site').count()"
      ],
      "execution_count": 0,
      "outputs": [
        {
          "output_type": "execute_result",
          "data": {
            "text/html": [
              "<div>\n",
              "<style scoped>\n",
              "    .dataframe tbody tr th:only-of-type {\n",
              "        vertical-align: middle;\n",
              "    }\n",
              "\n",
              "    .dataframe tbody tr th {\n",
              "        vertical-align: top;\n",
              "    }\n",
              "\n",
              "    .dataframe thead th {\n",
              "        text-align: right;\n",
              "    }\n",
              "</style>\n",
              "<table border=\"1\" class=\"dataframe\">\n",
              "  <thead>\n",
              "    <tr style=\"text-align: right;\">\n",
              "      <th></th>\n",
              "      <th>text</th>\n",
              "      <th>exam</th>\n",
              "    </tr>\n",
              "    <tr>\n",
              "      <th>site</th>\n",
              "      <th></th>\n",
              "      <th></th>\n",
              "    </tr>\n",
              "  </thead>\n",
              "  <tbody>\n",
              "    <tr>\n",
              "      <th>Abd&amp;pelvis</th>\n",
              "      <td>227</td>\n",
              "      <td>227</td>\n",
              "    </tr>\n",
              "    <tr>\n",
              "      <th>chest</th>\n",
              "      <td>239</td>\n",
              "      <td>239</td>\n",
              "    </tr>\n",
              "    <tr>\n",
              "      <th>ext</th>\n",
              "      <td>9</td>\n",
              "      <td>9</td>\n",
              "    </tr>\n",
              "    <tr>\n",
              "      <th>head&amp;neck</th>\n",
              "      <td>449</td>\n",
              "      <td>449</td>\n",
              "    </tr>\n",
              "    <tr>\n",
              "      <th>spine</th>\n",
              "      <td>76</td>\n",
              "      <td>76</td>\n",
              "    </tr>\n",
              "  </tbody>\n",
              "</table>\n",
              "</div>"
            ],
            "text/plain": [
              "            text  exam\n",
              "site                  \n",
              "Abd&pelvis   227   227\n",
              "chest        239   239\n",
              "ext            9     9\n",
              "head&neck    449   449\n",
              "spine         76    76"
            ]
          },
          "metadata": {
            "tags": []
          },
          "execution_count": 16
        }
      ]
    },
    {
      "cell_type": "code",
      "metadata": {
        "scrolled": false,
        "id": "JPeMgcc9z9Dv",
        "colab_type": "code",
        "colab": {
          "referenced_widgets": [
            "4c3030b53cec434fa03f0cbfb5552763"
          ]
        },
        "outputId": "303ea018-e0e9-4e44-cffa-07961e2a1ae5"
      },
      "source": [
        "# Embedding ct reports\n",
        "docs_vectors = [] # creating empty final dataframe\n",
        "for doc in tqdm_notebook(ct_sp['text']): # looping through each document and cleaning it\n",
        "    #print(doc)\n",
        "    temp = []  # creating a temporary dataframe(store value for 1st doc & for 2nd doc remove the details of 1st & proced through 2nd and so on..)\n",
        "    for word in doc.split(' '): # looping through each word of a single document and spliting through space\n",
        "        #print(word)\n",
        "        try:\n",
        "            word_vec = embeddings[word] # if word is present in embeddings\n",
        "            #print(word_vec)\n",
        "            temp.append(word_vec) # if word is present then append it to temporary dataframe\n",
        "        except:pass\n",
        "    temp = np.array(temp)\n",
        "    #print(temp)\n",
        "    #print(temp.mean(axis=0).shape)\n",
        "    #print()\n",
        "    #print(temp.mean(axis=1).shape)\n",
        "     # take the average of each column(w0, w1, w2,........w300)\n",
        "    docs_vectors.append(temp.mean(axis=0)) # append each document value to the final dataframe\n",
        "docs_vectors = np.array(docs_vectors)\n",
        "docs_vectors.shape\n",
        "#print(docs_vectors[0])"
      ],
      "execution_count": 0,
      "outputs": [
        {
          "output_type": "display_data",
          "data": {
            "application/vnd.jupyter.widget-view+json": {
              "model_id": "4c3030b53cec434fa03f0cbfb5552763",
              "version_major": 2,
              "version_minor": 0
            },
            "text/plain": [
              "HBox(children=(IntProgress(value=0, max=1000), HTML(value='')))"
            ]
          },
          "metadata": {
            "tags": []
          }
        },
        {
          "output_type": "execute_result",
          "data": {
            "text/plain": [
              "(1000, 300)"
            ]
          },
          "metadata": {
            "tags": []
          },
          "execution_count": 68
        }
      ]
    },
    {
      "cell_type": "code",
      "metadata": {
        "id": "SBBhtijCz9Dz",
        "colab_type": "code",
        "colab": {},
        "outputId": "c9f08bea-cae3-4c89-b7b0-82114ce6a047"
      },
      "source": [
        "from sklearn.model_selection import train_test_split\n",
        "train_x, test_x, train_y, test_y = train_test_split(docs_vectors,\n",
        "                                                   ct_sp['site'],\n",
        "                                                   test_size = 0.2,\n",
        "                                                   random_state = 1)\n",
        "train_x.shape, train_y.shape, test_x.shape, test_y.shape"
      ],
      "execution_count": 0,
      "outputs": [
        {
          "output_type": "execute_result",
          "data": {
            "text/plain": [
              "((800, 300), (800,), (200, 300), (200,))"
            ]
          },
          "metadata": {
            "tags": []
          },
          "execution_count": 69
        }
      ]
    },
    {
      "cell_type": "code",
      "metadata": {
        "id": "8frizRJGz9D5",
        "colab_type": "code",
        "colab": {}
      },
      "source": [
        "# PCA + SVC\n",
        "\n",
        "from sklearn.svm import SVC\n",
        "from sklearn.decomposition import PCA\n",
        "from sklearn.pipeline import make_pipeline\n",
        "\n",
        "pca = PCA(n_components=100, whiten=True, random_state=42)\n",
        "svc = SVC(kernel='rbf', class_weight='balanced')\n",
        "model = make_pipeline(pca, svc)"
      ],
      "execution_count": 0,
      "outputs": []
    },
    {
      "cell_type": "code",
      "metadata": {
        "id": "syAgmahrz9D8",
        "colab_type": "code",
        "colab": {},
        "outputId": "d511f916-ed08-48c0-f80e-2b35cd90fb07"
      },
      "source": [
        "# tuning with gridsearch\n",
        "from sklearn.model_selection import GridSearchCV\n",
        "param_grid = {'svc__C': [1, 5, 10, 50],\n",
        "              'svc__gamma': [0.0001, 0.0005, 0.001, 0.005]}\n",
        "grid = GridSearchCV(model, param_grid)\n",
        "\n",
        "%time grid.fit(train_x, train_y)\n",
        "print(grid.best_params_)\n"
      ],
      "execution_count": 0,
      "outputs": [
        {
          "output_type": "stream",
          "text": [
            "/usr/local/lib/python3.7/site-packages/sklearn/model_selection/_split.py:1978: FutureWarning: The default value of cv will change from 3 to 5 in version 0.22. Specify it explicitly to silence this warning.\n",
            "  warnings.warn(CV_WARNING, FutureWarning)\n"
          ],
          "name": "stderr"
        },
        {
          "output_type": "stream",
          "text": [
            "CPU times: user 13.4 s, sys: 1.65 s, total: 15.1 s\n",
            "Wall time: 5.31 s\n",
            "{'svc__C': 50, 'svc__gamma': 0.0001}\n"
          ],
          "name": "stdout"
        },
        {
          "output_type": "stream",
          "text": [
            "/usr/local/lib/python3.7/site-packages/sklearn/model_selection/_search.py:814: DeprecationWarning: The default of the `iid` parameter will change from True to False in version 0.22 and will be removed in 0.24. This will change numeric results when test-set sizes are unequal.\n",
            "  DeprecationWarning)\n"
          ],
          "name": "stderr"
        }
      ]
    },
    {
      "cell_type": "code",
      "metadata": {
        "id": "XCuiKeNWz9EA",
        "colab_type": "code",
        "colab": {}
      },
      "source": [
        "model = grid.best_estimator_\n",
        "predictions = model.predict(test_x)"
      ],
      "execution_count": 0,
      "outputs": []
    },
    {
      "cell_type": "code",
      "metadata": {
        "id": "vZCUup06z9ED",
        "colab_type": "code",
        "colab": {},
        "outputId": "45a7ef09-2af2-4d78-8983-63a4e276e44b"
      },
      "source": [
        "# Validation\n",
        "from sklearn.metrics import confusion_matrix, classification_report, accuracy_score\n",
        "import seaborn as sns\n",
        "\n",
        "accuracy = accuracy_score(test_y, predictions)\n",
        "print('Accuracy: ',accuracy)\n",
        "report = classification_report(test_y, predictions)\n",
        "print(report)\n",
        "mat = confusion_matrix(test_y, predictions)\n",
        "sns.heatmap(mat.T, square=True, annot=True, fmt='d', cbar=False,\n",
        "            #xticklabels=ct_sp.index.value,\n",
        "            #yticklabels=faces.target_names\n",
        "           )\n"
      ],
      "execution_count": 0,
      "outputs": [
        {
          "output_type": "stream",
          "text": [
            "Accuracy:  0.95\n",
            "              precision    recall  f1-score   support\n",
            "\n",
            "  Abd&pelvis       0.92      0.88      0.90        40\n",
            "       chest       0.88      0.94      0.91        48\n",
            "         ext       1.00      0.50      0.67         2\n",
            "   head&neck       0.99      0.99      0.99        95\n",
            "       spine       1.00      1.00      1.00        15\n",
            "\n",
            "    accuracy                           0.95       200\n",
            "   macro avg       0.96      0.86      0.89       200\n",
            "weighted avg       0.95      0.95      0.95       200\n",
            "\n"
          ],
          "name": "stdout"
        },
        {
          "output_type": "execute_result",
          "data": {
            "text/plain": [
              "<matplotlib.axes._subplots.AxesSubplot at 0x10be4e410>"
            ]
          },
          "metadata": {
            "tags": []
          },
          "execution_count": 76
        },
        {
          "output_type": "display_data",
          "data": {
            "image/png": "[encoded data removed]",
            "text/plain": [
              "<Figure size 432x288 with 1 Axes>"
            ]
          },
          "metadata": {
            "tags": [],
            "needs_background": "light"
          }
        }
      ]
    },
    {
      "cell_type": "code",
      "metadata": {
        "id": "rqosCZJlz9EI",
        "colab_type": "code",
        "colab": {}
      },
      "source": [
        "# Random forest classifier\n",
        "from sklearn.ensemble import RandomForestClassifier\n",
        "rf = RandomForestClassifier(n_estimators=1500,class_weight='balanced')\n"
      ],
      "execution_count": 0,
      "outputs": []
    },
    {
      "cell_type": "code",
      "metadata": {
        "id": "ki1Ro66Qz9EM",
        "colab_type": "code",
        "colab": {}
      },
      "source": [
        "rf.fit(train_x, train_y)\n",
        "predictions = rf.predict(test_x)"
      ],
      "execution_count": 0,
      "outputs": []
    },
    {
      "cell_type": "code",
      "metadata": {
        "id": "GVSKOtx3z9ES",
        "colab_type": "code",
        "colab": {},
        "outputId": "c8fba22e-ea5a-41d0-9672-5c234b286517"
      },
      "source": [
        "accuracy = accuracy_score(test_y, predictions)\n",
        "print('Accuracy: ',accuracy)\n",
        "report = classification_report(test_y, predictions)\n",
        "print(report)\n",
        "mat = confusion_matrix(test_y, predictions)\n",
        "sns.heatmap(mat.T, square=True, annot=True, fmt='d', cbar=False,\n",
        "            #xticklabels=ct_sp.index.value,\n",
        "            #yticklabels=faces.target_names\n",
        "           )\n"
      ],
      "execution_count": 0,
      "outputs": [
        {
          "output_type": "stream",
          "text": [
            "Accuracy:  0.92\n",
            "              precision    recall  f1-score   support\n",
            "\n",
            "  Abd&pelvis       0.89      0.85      0.87        40\n",
            "       chest       0.83      0.90      0.86        48\n",
            "         ext       0.00      0.00      0.00         2\n",
            "   head&neck       0.97      0.97      0.97        95\n",
            "       spine       1.00      1.00      1.00        15\n",
            "\n",
            "    accuracy                           0.92       200\n",
            "   macro avg       0.74      0.74      0.74       200\n",
            "weighted avg       0.91      0.92      0.92       200\n",
            "\n"
          ],
          "name": "stdout"
        },
        {
          "output_type": "stream",
          "text": [
            "/usr/local/lib/python3.7/site-packages/sklearn/metrics/classification.py:1437: UndefinedMetricWarning: Precision and F-score are ill-defined and being set to 0.0 in labels with no predicted samples.\n",
            "  'precision', 'predicted', average, warn_for)\n"
          ],
          "name": "stderr"
        },
        {
          "output_type": "execute_result",
          "data": {
            "text/plain": [
              "<matplotlib.axes._subplots.AxesSubplot at 0x122253310>"
            ]
          },
          "metadata": {
            "tags": []
          },
          "execution_count": 80
        },
        {
          "output_type": "display_data",
          "data": {
            "image/png": "[encoded data removed]",
            "text/plain": [
              "<Figure size 432x288 with 1 Axes>"
            ]
          },
          "metadata": {
            "tags": [],
            "needs_background": "light"
          }
        }
      ]
    },
    {
      "cell_type": "code",
      "metadata": {
        "id": "lUNtY5mFz9EX",
        "colab_type": "code",
        "colab": {}
      },
      "source": [
        "# word level tf-idf\n",
        "from sklearn.feature_extraction.text import TfidfVectorizer, CountVectorizer\n",
        "from sklearn.decomposition import TruncatedSVD\n",
        "tfidf_vect = TfidfVectorizer(analyzer='word', token_pattern=r'\\w{1,}')\n",
        "tfidf_vect.fit(ct_sp['text'])\n",
        "train_x, test_x, train_y, test_y = train_test_split(ct_sp['text'],\n",
        "                                                   ct_sp['site'],\n",
        "                                                   test_size = 0.2,\n",
        "                                                   random_state = 1)\n",
        "train_x.shape, train_y.shape, test_x.shape, test_y.shape\n",
        "xtrain_tfidf =  tfidf_vect.transform(train_x)\n",
        "xtest_tfidf =  tfidf_vect.transform(test_x)"
      ],
      "execution_count": 0,
      "outputs": []
    },
    {
      "cell_type": "code",
      "metadata": {
        "id": "htCvMtPqz9Ea",
        "colab_type": "code",
        "colab": {}
      },
      "source": [
        "tsvd = TruncatedSVD(n_components=100, n_iter=10, random_state=42)\n",
        "svc = SVC(kernel='rbf', class_weight='balanced')\n",
        "model = make_pipeline(tsvd, svc)"
      ],
      "execution_count": 0,
      "outputs": []
    },
    {
      "cell_type": "code",
      "metadata": {
        "id": "7WezTUhDz9Ef",
        "colab_type": "code",
        "colab": {},
        "outputId": "92c19805-2412-4171-bd8e-3ac826bce00a"
      },
      "source": [
        "from sklearn.model_selection import GridSearchCV\n",
        "param_grid = {'svc__C': [1, 5, 10, 50],\n",
        "              'svc__gamma': [0.0001, 0.0005, 0.001, 0.005]}\n",
        "grid = GridSearchCV(model, param_grid)\n",
        "\n",
        "%time grid.fit(xtrain_tfidf, train_y)\n",
        "print(grid.best_params_)\n"
      ],
      "execution_count": 0,
      "outputs": [
        {
          "output_type": "stream",
          "text": [
            "/usr/local/lib/python3.7/site-packages/sklearn/model_selection/_split.py:1978: FutureWarning: The default value of cv will change from 3 to 5 in version 0.22. Specify it explicitly to silence this warning.\n",
            "  warnings.warn(CV_WARNING, FutureWarning)\n",
            "/usr/local/lib/python3.7/site-packages/sklearn/model_selection/_search.py:814: DeprecationWarning: The default of the `iid` parameter will change from True to False in version 0.22 and will be removed in 0.24. This will change numeric results when test-set sizes are unequal.\n",
            "  DeprecationWarning)\n"
          ],
          "name": "stderr"
        },
        {
          "output_type": "stream",
          "text": [
            "CPU times: user 53.2 s, sys: 7.37 s, total: 1min\n",
            "Wall time: 29.2 s\n",
            "{'svc__C': 50, 'svc__gamma': 0.005}\n"
          ],
          "name": "stdout"
        }
      ]
    },
    {
      "cell_type": "code",
      "metadata": {
        "id": "pixAZXJ5z9Ej",
        "colab_type": "code",
        "colab": {}
      },
      "source": [
        "model = grid.best_estimator_\n",
        "predictions = model.predict(xtest_tfidf)"
      ],
      "execution_count": 0,
      "outputs": []
    },
    {
      "cell_type": "code",
      "metadata": {
        "scrolled": true,
        "id": "a64mDz5Rz9El",
        "colab_type": "code",
        "colab": {},
        "outputId": "4dc7cb69-3b0c-4460-aa48-55357e1ccadf"
      },
      "source": [
        "accuracy = accuracy_score(test_y, predictions)\n",
        "print('Accuracy: ',accuracy)\n",
        "report = classification_report(test_y, predictions)\n",
        "print(report)\n",
        "mat = confusion_matrix(test_y, predictions)\n",
        "sns.heatmap(mat.T, square=True, annot=True, fmt='d', cbar=False,\n",
        "            #xticklabels=ct_sp.index.value,\n",
        "            #yticklabels=faces.target_names\n",
        "           )\n"
      ],
      "execution_count": 0,
      "outputs": [
        {
          "output_type": "stream",
          "text": [
            "Accuracy:  0.925\n",
            "              precision    recall  f1-score   support\n",
            "\n",
            "  Abd&pelvis       0.84      0.93      0.88        40\n",
            "       chest       0.89      0.85      0.87        48\n",
            "         ext       0.00      0.00      0.00         2\n",
            "   head&neck       0.98      0.97      0.97        95\n",
            "       spine       1.00      1.00      1.00        15\n",
            "\n",
            "    accuracy                           0.93       200\n",
            "   macro avg       0.74      0.75      0.75       200\n",
            "weighted avg       0.92      0.93      0.92       200\n",
            "\n"
          ],
          "name": "stdout"
        },
        {
          "output_type": "execute_result",
          "data": {
            "text/plain": [
              "<matplotlib.axes._subplots.AxesSubplot at 0x122baf710>"
            ]
          },
          "metadata": {
            "tags": []
          },
          "execution_count": 86
        },
        {
          "output_type": "display_data",
          "data": {
            "image/png": "[encoded data removed]",
            "text/plain": [
              "<Figure size 432x288 with 1 Axes>"
            ]
          },
          "metadata": {
            "tags": [],
            "needs_background": "light"
          }
        }
      ]
    },
    {
      "cell_type": "code",
      "metadata": {
        "id": "ETUWKcggz9Eo",
        "colab_type": "code",
        "colab": {}
      },
      "source": [
        ""
      ],
      "execution_count": 0,
      "outputs": []
    }
  ]
}